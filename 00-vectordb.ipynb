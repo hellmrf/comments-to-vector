{
 "cells": [
  {
   "cell_type": "markdown",
   "metadata": {},
   "source": [
    "# Testando BD Vetorial\n",
    "\n",
    "Usaremos [Chroma DB](https://www.trychroma.com/).\n",
    "\n",
    "Vou indexar todos os comentários do canal e pesquisar."
   ]
  },
  {
   "cell_type": "code",
   "execution_count": 1,
   "metadata": {},
   "outputs": [],
   "source": [
    "import pandas as pd\n",
    "import chromadb"
   ]
  },
  {
   "cell_type": "markdown",
   "metadata": {},
   "source": [
    "`comments.csv` é um conjunto de dados com todos os comentários de Programação Popular no Youtube até julho de 2024. Salvaremos esses comentários no ChromaDB para tentar fazer buscas depois."
   ]
  },
  {
   "cell_type": "code",
   "execution_count": 2,
   "metadata": {},
   "outputs": [
    {
     "name": "stdout",
     "output_type": "stream",
     "text": [
      "df.columns = ['video_id', 'user', 'date', 'comment', 'likes', 'cleaned_comment', 'cluster']\n"
     ]
    }
   ],
   "source": [
    "df = pd.read_csv(\"./data/comments.csv\")\n",
    "print(f\"df.columns = {list(df.columns)}\")"
   ]
  },
  {
   "cell_type": "code",
   "execution_count": 5,
   "metadata": {},
   "outputs": [],
   "source": [
    "chroma_client = chromadb.PersistentClient(\"./chroma.db\")\n",
    "collection = chroma_client.get_or_create_collection(name=\"ProgramacaoPopular\")"
   ]
  },
  {
   "cell_type": "markdown",
   "metadata": {},
   "source": [
    "## Salvando no Chroma DB\n",
    "\n",
    "Aqui vamos tratar cada comentário como um documento. Eu não sei se essa abordagem é a mais apropriada, mas aprenderemos isso no futuro. Além do conteúdo (que é o `document`), também tô salvando metadados em `metadata` (como data, usuário e id do vídeo)."
   ]
  },
  {
   "cell_type": "code",
   "execution_count": null,
   "metadata": {},
   "outputs": [
    {
     "data": {
      "text/plain": [
       "(2497, 2497, 2497)"
      ]
     },
     "execution_count": 4,
     "metadata": {},
     "output_type": "execute_result"
    }
   ],
   "source": [
    "documents = []\n",
    "metadatas = []\n",
    "ids = []\n",
    "for index, row in df.iterrows():\n",
    "    documents.append(row['comment'])\n",
    "    metadatas.append({\"date\": row['date'], \"user\": row['user'], \"video_id\": row['video_id']})\n",
    "    ids.append(str(index))\n",
    "\n",
    "len(documents), len(metadatas), len(ids)"
   ]
  },
  {
   "cell_type": "markdown",
   "metadata": {},
   "source": [
    "Aqui adicionamos no banco. Na minha máquina, para 3000 comentários, demorou 3 min 18 s."
   ]
  },
  {
   "cell_type": "code",
   "execution_count": 4,
   "metadata": {},
   "outputs": [
    {
     "ename": "NameError",
     "evalue": "name 'collection' is not defined",
     "output_type": "error",
     "traceback": [
      "\u001b[0;31m---------------------------------------------------------------------------\u001b[0m",
      "\u001b[0;31mNameError\u001b[0m                                 Traceback (most recent call last)",
      "Cell \u001b[0;32mIn[4], line 1\u001b[0m\n\u001b[0;32m----> 1\u001b[0m \u001b[43mcollection\u001b[49m\u001b[38;5;241m.\u001b[39madd(\n\u001b[1;32m      2\u001b[0m     documents\u001b[38;5;241m=\u001b[39mdocuments, \n\u001b[1;32m      3\u001b[0m     metadatas\u001b[38;5;241m=\u001b[39mmetadatas, \n\u001b[1;32m      4\u001b[0m     ids\u001b[38;5;241m=\u001b[39mids\n\u001b[1;32m      5\u001b[0m )\n",
      "\u001b[0;31mNameError\u001b[0m: name 'collection' is not defined"
     ]
    }
   ],
   "source": [
    "collection.add(\n",
    "    documents=documents, \n",
    "    metadatas=metadatas, \n",
    "    ids=ids\n",
    ")"
   ]
  },
  {
   "cell_type": "code",
   "execution_count": 6,
   "metadata": {},
   "outputs": [
    {
     "data": {
      "text/plain": [
       "[['Boa  explicação, para mim a melhor do youtube!',\n",
       "  'O melhorrr',\n",
       "  'Melhores videos sobre Portugol',\n",
       "  'melhores vídeos',\n",
       "  'Manda salve pro pessoal do Luiza de Teodoro esse vídeo ajudou bastante',\n",
       "  'Tem que continuar os vídeos, são os melhores',\n",
       "  'Vídeo Ruim Da Porra Desfocado',\n",
       "  'Incrível como esse série pode ajudar tanto. Muito obrigado por compartilhar esse conhecimento aqui no youtube, deixei meu like em todos os vídeos.',\n",
       "  'realmente vídeo bem feito',\n",
       "  'Poxa, obrigado. Tô com uns vídeos gravados aqui, mas o tempo de editar tá foda. Vou tentar fazer o mais rápido possível =)',\n",
       "  'Kkkkkkkk como assim? Dê uma olhada se os vídeos mais recentes estão melhores. Se não estiverem, vou melhorar pros próximos. Obrigado pelo feedback!',\n",
       "  'Volte a fazer videos, vc explica muito bem.',\n",
       "  'Terá mais videos?',\n",
       "  'Muito Obrigado por seus vídeos, eles tem me ajudado bastante, na escola não explicaram direito. Já aprendi, muitas coisa apenas em vídeo aulas no youtube. Agora estou avançando no curso de algoritmos. Muito obrigado, ganhou um inscrito!',\n",
       "  'Quem bom que gostou! Estou realmente tentando um tempo livre pra publicar novos vídeos, mas tempo livre tá foda. Novos vídeos virão!',\n",
       "  'Continua fazendo vídeos de como usar o Portugol , pelo amor de Deus, eu tiro dúvidas da matéria com os seus vídeos kkk',\n",
       "  'Lindíssimo. Continue com esses vídeos maravilhosos',\n",
       "  'Ótima explicação! \\nAguardo novos vídeos. :)',\n",
       "  'Está me ajudando muito. Mas achei falta de mais vídeos.',\n",
       "  'Olá, pode enviar algumas sugestões de vídeos que tento gravar o que estiver ao meu alcance!']]"
      ]
     },
     "execution_count": 6,
     "metadata": {},
     "output_type": "execute_result"
    }
   ],
   "source": [
    "results = collection.query(\n",
    "    query_texts=[\"melhor do youtube\"], # Chroma will embed this for you\n",
    "    n_results=20 # how many results to return\n",
    ")\n",
    "results[\"documents\"]"
   ]
  }
 ],
 "metadata": {
  "kernelspec": {
   "display_name": "coraldigital",
   "language": "python",
   "name": "python3"
  },
  "language_info": {
   "codemirror_mode": {
    "name": "ipython",
    "version": 3
   },
   "file_extension": ".py",
   "mimetype": "text/x-python",
   "name": "python",
   "nbconvert_exporter": "python",
   "pygments_lexer": "ipython3",
   "version": "3.10.14"
  }
 },
 "nbformat": 4,
 "nbformat_minor": 2
}
