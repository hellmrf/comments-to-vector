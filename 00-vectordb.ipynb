{
 "cells": [
  {
   "cell_type": "markdown",
   "metadata": {},
   "source": [
    "# Testando BD Vetorial\n",
    "\n",
    "Usaremos [Chroma DB](https://www.trychroma.com/).\n",
    "\n",
    "Vou indexar todos os comentários do canal e pesquisar."
   ]
  },
  {
   "cell_type": "code",
   "execution_count": 1,
   "metadata": {},
   "outputs": [],
   "source": [
    "import pandas as pd\n",
    "import chromadb"
   ]
  },
  {
   "cell_type": "markdown",
   "metadata": {},
   "source": [
    "`comments.csv` é um conjunto de dados com todos os comentários de Programação Popular no Youtube até julho de 2024. Salvaremos esses comentários no ChromaDB para tentar fazer buscas depois."
   ]
  },
  {
   "cell_type": "code",
   "execution_count": 2,
   "metadata": {},
   "outputs": [
    {
     "name": "stdout",
     "output_type": "stream",
     "text": [
      "['video_id', 'user', 'date', 'comment', 'likes', 'cleaned_comment', 'cluster']\n"
     ]
    }
   ],
   "source": [
    "df = pd.read_csv(\"./data/comments.csv\")\n",
    "print(f\"df.columns = {list(df.columns)}\")"
   ]
  },
  {
   "cell_type": "code",
   "execution_count": 3,
   "metadata": {},
   "outputs": [],
   "source": [
    "chroma_client = chromadb.PersistentClient(\"./chroma.db\")\n",
    "collection = chroma_client.create_collection(name=\"ProgramacaoPopular\")"
   ]
  },
  {
   "cell_type": "markdown",
   "metadata": {},
   "source": [
    "## Salvando no Chroma DB\n",
    "\n",
    "Aqui vamos tratar cada comentário como um documento. Eu não sei se essa abordagem é a mais apropriada, mas aprenderemos isso no futuro. Além do conteúdo (que é o `document`), também tô salvando metadados em `metadata` (como data, usuário e id do vídeo)."
   ]
  },
  {
   "cell_type": "code",
   "execution_count": 4,
   "metadata": {},
   "outputs": [
    {
     "data": {
      "text/plain": [
       "(2497, 2497, 2497)"
      ]
     },
     "execution_count": 4,
     "metadata": {},
     "output_type": "execute_result"
    }
   ],
   "source": [
    "documents = []\n",
    "metadatas = []\n",
    "ids = []\n",
    "for index, row in df.iterrows():\n",
    "    documents.append(row['comment'])\n",
    "    metadatas.append({\"date\": row['date'], \"user\": row['user'], \"video_id\": row['video_id']})\n",
    "    ids.append(str(index))\n",
    "\n",
    "len(documents), len(metadatas), len(ids)"
   ]
  },
  {
   "cell_type": "markdown",
   "metadata": {},
   "source": [
    "Aqui adicionamos no banco. Na minha máquina, para 3000 comentários, demorou 3 min 18 s."
   ]
  },
  {
   "cell_type": "code",
   "execution_count": 5,
   "metadata": {},
   "outputs": [],
   "source": [
    "collection.add(\n",
    "    documents=documents, \n",
    "    metadatas=metadatas, \n",
    "    ids=ids\n",
    ")"
   ]
  },
  {
   "cell_type": "code",
   "execution_count": 14,
   "metadata": {},
   "outputs": [
    {
     "data": {
      "text/plain": [
       "[['muito bom',\n",
       "  'muito bom',\n",
       "  'Muito bom',\n",
       "  'Muito bom!',\n",
       "  'Muito bom!',\n",
       "  'Muito bom!',\n",
       "  'muito bom!',\n",
       "  'MUITO BOM!',\n",
       "  'Muito bom!',\n",
       "  'Muito bom!',\n",
       "  'Muito bom!',\n",
       "  'Muito bom!',\n",
       "  'Muito bom!',\n",
       "  'muito bom 👏',\n",
       "  'Muito bom !!!',\n",
       "  'Muito bom!!!',\n",
       "  'Muito bom , show.',\n",
       "  'Muito bom, bem explicado.',\n",
       "  'Muito bom! :D',\n",
       "  'muito bom as aulas']]"
      ]
     },
     "execution_count": 14,
     "metadata": {},
     "output_type": "execute_result"
    }
   ],
   "source": [
    "results = collection.query(\n",
    "    query_texts=[\"muito bom\"], # Chroma will embed this for you\n",
    "    n_results=20 # how many results to return\n",
    ")\n",
    "results[\"documents\"]"
   ]
  }
 ],
 "metadata": {
  "kernelspec": {
   "display_name": "coraldigital",
   "language": "python",
   "name": "python3"
  },
  "language_info": {
   "codemirror_mode": {
    "name": "ipython",
    "version": 3
   },
   "file_extension": ".py",
   "mimetype": "text/x-python",
   "name": "python",
   "nbconvert_exporter": "python",
   "pygments_lexer": "ipython3",
   "version": "3.10.14"
  }
 },
 "nbformat": 4,
 "nbformat_minor": 2
}
