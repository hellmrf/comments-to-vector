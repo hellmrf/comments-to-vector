{
 "cells": [
  {
   "cell_type": "markdown",
   "metadata": {},
   "source": [
    "# Testando BD Vetorial\n",
    "\n",
    "## Calculando embeddings\n",
    "\n",
    "Aqui usaremos um LLM para calcular os embeddings antes de inserir no BD."
   ]
  },
  {
   "cell_type": "code",
   "execution_count": 16,
   "metadata": {},
   "outputs": [
    {
     "data": {
      "text/plain": [
       "True"
      ]
     },
     "execution_count": 16,
     "metadata": {},
     "output_type": "execute_result"
    }
   ],
   "source": [
    "import pandas as pd\n",
    "import chromadb\n",
    "import numpy as np\n",
    "import tqdm\n",
    "\n",
    "import os\n",
    "from dotenv import load_dotenv\n",
    "load_dotenv()"
   ]
  },
  {
   "cell_type": "markdown",
   "metadata": {},
   "source": [
    "## Get embedding function\n",
    "\n",
    "Vou usar o Gemini porque é gratuito até certo limite. Pegue sua chave de API no [Google AI Studio](https://aistudio.google.com/) e coloque no arquivo `.env`."
   ]
  },
  {
   "cell_type": "code",
   "execution_count": 17,
   "metadata": {},
   "outputs": [],
   "source": [
    "import chromadb.utils.embedding_functions as embedding_functions\n",
    "\n",
    "google_ef  = embedding_functions.GoogleGenerativeAiEmbeddingFunction(api_key=os.environ[\"GEMINI_API_KEY\"])"
   ]
  },
  {
   "cell_type": "code",
   "execution_count": 18,
   "metadata": {},
   "outputs": [],
   "source": [
    "# Load Chroma DB with the new embedding function.\n",
    "client = chromadb.PersistentClient(\"./chroma.db\")\n",
    "collection = client.get_or_create_collection(name=\"01-embeddings\", embedding_function=google_ef)"
   ]
  },
  {
   "cell_type": "markdown",
   "metadata": {},
   "source": [
    "## Save data"
   ]
  },
  {
   "cell_type": "code",
   "execution_count": 19,
   "metadata": {},
   "outputs": [
    {
     "name": "stdout",
     "output_type": "stream",
     "text": [
      "df.columns = ['video_id', 'user', 'date', 'comment', 'likes', 'cleaned_comment', 'cluster']\n"
     ]
    }
   ],
   "source": [
    "df = pd.read_csv(\"./data/comments.csv\")\n",
    "print(f\"df.columns = {list(df.columns)}\")"
   ]
  },
  {
   "cell_type": "code",
   "execution_count": 22,
   "metadata": {},
   "outputs": [
    {
     "data": {
      "text/plain": [
       "(2497, 2497)"
      ]
     },
     "execution_count": 22,
     "metadata": {},
     "output_type": "execute_result"
    }
   ],
   "source": [
    "documents = []\n",
    "metadatas = []\n",
    "for index, row in df.iterrows():\n",
    "    documents.append(row['comment'])\n",
    "    metadatas.append({\"date\": row['date'], \"user\": row['user'], \"video_id\": row['video_id']})\n",
    "\n",
    "len(documents), len(metadatas) "
   ]
  },
  {
   "cell_type": "code",
   "execution_count": 24,
   "metadata": {},
   "outputs": [
    {
     "name": "stdout",
     "output_type": "stream",
     "text": [
      "Collection already contains 0 documents\n"
     ]
    },
    {
     "name": "stderr",
     "output_type": "stream",
     "text": [
      "Adding documents:   0%|          | 0/2500 [00:00<?, ?it/s]"
     ]
    },
    {
     "name": "stderr",
     "output_type": "stream",
     "text": [
      "Adding documents: 100%|██████████| 2500/2500 [12:44<00:00,  3.27it/s]"
     ]
    },
    {
     "name": "stdout",
     "output_type": "stream",
     "text": [
      "Added 2497 documents\n"
     ]
    },
    {
     "name": "stderr",
     "output_type": "stream",
     "text": [
      "\n"
     ]
    }
   ],
   "source": [
    "count = collection.count()\n",
    "print(f\"Collection already contains {count} documents\")\n",
    "\n",
    "ids = [str(i) for i in range(count, count + len(documents))]\n",
    "\n",
    "# Load the documents in batches of 100\n",
    "for i in tqdm.tqdm(\n",
    "    range(0, len(documents), 100), desc=\"Adding documents\", unit_scale=100\n",
    "):\n",
    "    collection.add(\n",
    "        ids=ids[i : i + 100],\n",
    "        documents=documents[i : i + 100],\n",
    "        metadatas=metadatas[i : i + 100],  # type: ignore\n",
    "    )\n",
    "\n",
    "new_count = collection.count()\n",
    "print(f\"Added {new_count - count} documents\")"
   ]
  },
  {
   "cell_type": "markdown",
   "metadata": {},
   "source": [
    "## Search"
   ]
  },
  {
   "cell_type": "code",
   "execution_count": 27,
   "metadata": {},
   "outputs": [
    {
     "data": {
      "text/plain": [
       "[['melhores vídeos',\n",
       "  'Boa  explicação, para mim a melhor do youtube!',\n",
       "  'Tem que continuar os vídeos, são os melhores',\n",
       "  'bom vídeo',\n",
       "  'Perfeito, ótimo vídeo',\n",
       "  'Muito bom seus vídeos! Parabéns!',\n",
       "  'Ótimo vídeo',\n",
       "  'irmao vc e o melhor',\n",
       "  'muito bom, este e o vídeo anterior',\n",
       "  'Muito bom os vídeos, parabéns.',\n",
       "  'Excelente vídeo 👏👏👏',\n",
       "  'não terá mais videos ? òtimo canal.',\n",
       "  'Poste mais videos disso por favor <3',\n",
       "  'Terá mais videos?',\n",
       "  'poe o arquivo desse video',\n",
       "  'Ótimo vídeo!',\n",
       "  'Seus vídeos Estão Min Ajudando Muito 👊',\n",
       "  'uma das melhores explicações de programação do you tube!',\n",
       "  'Excelente video',\n",
       "  'Parabéns vídeo muito bom, obrigado!']]"
      ]
     },
     "execution_count": 27,
     "metadata": {},
     "output_type": "execute_result"
    }
   ],
   "source": [
    "queries = [\"melhor do youtube\"]\n",
    "n_res = 20\n",
    "\n",
    "results = collection.query(\n",
    "    query_texts=queries, # Chroma will embed this for you\n",
    "    n_results=n_res # how many results to return\n",
    ")\n",
    "results[\"documents\"]"
   ]
  },
  {
   "cell_type": "code",
   "execution_count": null,
   "metadata": {},
   "outputs": [],
   "source": []
  }
 ],
 "metadata": {
  "kernelspec": {
   "display_name": "coraldigital",
   "language": "python",
   "name": "python3"
  },
  "language_info": {
   "codemirror_mode": {
    "name": "ipython",
    "version": 3
   },
   "file_extension": ".py",
   "mimetype": "text/x-python",
   "name": "python",
   "nbconvert_exporter": "python",
   "pygments_lexer": "ipython3",
   "version": "3.10.14"
  }
 },
 "nbformat": 4,
 "nbformat_minor": 2
}
